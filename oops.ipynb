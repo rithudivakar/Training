{
 "cells": [
  {
   "cell_type": "code",
   "execution_count": 11,
   "metadata": {},
   "outputs": [
    {
     "name": "stdout",
     "output_type": "stream",
     "text": [
      "Forum Mall is where we get Orange\n",
      "price is 100 per kilogram\n",
      "The rate of Apple is 150 per kilogram\n"
     ]
    }
   ],
   "source": [
    "class Fruit(object):\n",
    "     \n",
    "\n",
    "     def __init__(self,name,price):\n",
    "        self.name= name\n",
    "        self.price= price\n",
    "\n",
    "     def details(self):\n",
    "        #print('My name is  {}\\t'.format(self.name))\n",
    "        print(\"price is {} per kilogram\".format(self.price))\n",
    "\n",
    "class apple(Fruit):\n",
    "\n",
    "    def details(self):\n",
    "        print(\"The rate of {} is {} per kilogram\".format(self.name,self.price)) #polymorphishm\n",
    "        \n",
    "\n",
    "class Orange(Fruit):  #inheritance\n",
    "    def __init__(self, name, price,store):\n",
    "        self.store = store\n",
    "\n",
    "        Fruit.__init__(self,name,price)\n",
    "\n",
    "    def identify(self):\n",
    "        print(\"{} is where we get {}\".format(self.store,self.name))\n",
    "\n",
    "\n",
    "#obj instant\n",
    "\n",
    "a=Orange(\"Orange\",100,\"Forum Mall\")\n",
    "a.identify()\n",
    "a.details()\n",
    "\n",
    "b=apple(\"Apple\",150)\n",
    "b.details()\n"
   ]
  }
 ],
 "metadata": {
  "kernelspec": {
   "display_name": "Python 3.8.10 64-bit",
   "language": "python",
   "name": "python3"
  },
  "language_info": {
   "codemirror_mode": {
    "name": "ipython",
    "version": 3
   },
   "file_extension": ".py",
   "mimetype": "text/x-python",
   "name": "python",
   "nbconvert_exporter": "python",
   "pygments_lexer": "ipython3",
   "version": "3.8.10"
  },
  "orig_nbformat": 4,
  "vscode": {
   "interpreter": {
    "hash": "916dbcbb3f70747c44a77c7bcd40155683ae19c65e1c03b4aa3499c5328201f1"
   }
  }
 },
 "nbformat": 4,
 "nbformat_minor": 2
}
